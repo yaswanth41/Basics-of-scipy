{
 "cells": [
  {
   "cell_type": "markdown",
   "metadata": {},
   "source": [
    "let us discuss about SciPy"
   ]
  },
  {
   "cell_type": "markdown",
   "metadata": {},
   "source": [
    "<h1>what is SciPy</h1>\n",
    "\n",
    "SciPy is a set of open source (BSD licensed) scientific and numerical tools for Python. It currently supports special functions, integration, ordinary differential equation (ODE) solvers, gradient optimization, parallel programming tools, an expression-to-C++ compiler for fast execution, and others. A good rule of thumb is that if it’s covered in a general textbook on numerical computing (for example, the well-known Numerical Recipes series), it’s probably implemented in SciPy.\n",
    "Python SciPy is open-source and BSD-licensed."
   ]
  },
  {
   "cell_type": "markdown",
   "metadata": {},
   "source": [
    "<h1>Scipy and its benefits</h1>\n",
    "\n",
    "Python SciPy has modules for the following tasks:\n",
    "<ul><li>\n",
    "Optimization</li>\n",
    "<li>Linear algebra</li>\n",
    "<li>Integration</li>\n",
    "<li>Interpolation</li>\n",
    "<li>Special functions</li>\n",
    "<li>Signal and Image processing</li>\n",
    "<li>Scipy works with the Numpy arrays.</li>"
   ]
  },
  {
   "cell_type": "markdown",
   "metadata": {},
   "source": [
    "<h1>Benefits of using Scipy</h1><ul>\n",
    "<li>High-level commands and classes for visualizing and manipulating data.</li>\n",
    "<li>Powerful and interactive sessions with Python.</li>\n",
    "<li>Classes and web and database routines for parallel programming.</li>\n",
    "<li>Easy and fast.</li>\n",
    "<li>Open-source.</li>"
   ]
  },
  {
   "cell_type": "markdown",
   "metadata": {},
   "source": [
    "<h1>Subpackages of scipy</h1><ul>\n",
    "<li>cluster- Hierarchical clustering.</li>\n",
    "<li>constants- Physical constants and factors* of conversion.</li>\n",
    "<li>fftpack- Algorithms for Discrete Fourier Transform.\n",
    "<li>integrate- Routines for numerical integration.</li>\n",
    "<li>interpolate- Tools for interpolation.</li>\n",
    "<li>io- Input and Output tools for data.</li>\n",
    "<li>lilib- Wrappers to external libraries.</li>\n",
    "<li>linalg- Routines for linear algebra.</li>\n",
    "<li>misc- Miscellaneous utilities like image reading and writing.</li>\n",
    "<li>ndimage- Functions for processing multidimensional images.</li>\n",
    "<li>optimize- Algorithms for optimization.</li>\n",
    "<li>signal- Tools for processing signal.</li>\n",
    "<li>sparse- Algorithms for sparse matrices.</li>\n",
    "<li>spatial- KD-trees, distance functions, nearest neighbors.</li>\n",
    "<li>special- Special functions.</li>\n",
    "<li>stats- Functions to perform statistics.</li>\n",
    "<li>weave- Functionality that lets you write C++/C code in the form of multiline strings.</li></ul>"
   ]
  },
  {
   "cell_type": "markdown",
   "metadata": {},
   "source": [
    "<h1>Performing operations of linear algebra in SciPy</h1>\n",
    "\n",
    "For performing operations of linear algebra in SciPy, we will need to import linalg from scipy-\n"
   ]
  },
  {
   "cell_type": "markdown",
   "metadata": {},
   "source": [
    "<h2>a. Solving a set of equations</h2>\n"
   ]
  },
  {
   "cell_type": "code",
   "execution_count": 1,
   "metadata": {},
   "outputs": [
    {
     "name": "stdout",
     "output_type": "stream",
     "text": [
      "[[2.]\n",
      " [1.]]\n"
     ]
    }
   ],
   "source": [
    "from scipy import linalg\n",
    "import numpy\n",
    "A=numpy.array([[2,3],[3,4]])\n",
    "B=numpy.array([[7],[10]])\n",
    "print(linalg.solve(A,B))"
   ]
  },
  {
   "cell_type": "markdown",
   "metadata": {},
   "source": [
    "<h2>b. Determinants of Square Matrices</h2>\n",
    "\n",
    "To calculate the determinant for a square matrix, we can use the det() method.\n",
    "\n"
   ]
  },
  {
   "cell_type": "code",
   "execution_count": 2,
   "metadata": {},
   "outputs": [
    {
     "data": {
      "text/plain": [
       "30.0"
      ]
     },
     "execution_count": 2,
     "metadata": {},
     "output_type": "execute_result"
    }
   ],
   "source": [
    "mat=numpy.array([[8,2],[1,4]])\n",
    "(linalg.det(mat)) "
   ]
  },
  {
   "cell_type": "markdown",
   "metadata": {},
   "source": [
    "<h2>c. An inverse of a Square Matrix</h2>\n",
    "\n",
    "For this, we use the inv() method.\n"
   ]
  },
  {
   "cell_type": "code",
   "execution_count": 3,
   "metadata": {},
   "outputs": [
    {
     "name": "stdout",
     "output_type": "stream",
     "text": [
      "[[ 0.13333333 -0.06666667]\n",
      " [-0.03333333  0.26666667]]\n"
     ]
    }
   ],
   "source": [
    "mat=numpy.array([[8,2],[1,4]])\n",
    "print(linalg.inv(mat))"
   ]
  },
  {
   "cell_type": "markdown",
   "metadata": {},
   "source": [
    "<h2>d. Singular Value Decomposition</h2>\n",
    "\n",
    "For this, we use the svd() method.\n",
    "\n"
   ]
  },
  {
   "cell_type": "code",
   "execution_count": 4,
   "metadata": {},
   "outputs": [
    {
     "data": {
      "text/plain": [
       "(array([[-0.9610057 , -0.27652857],\n",
       "        [-0.27652857,  0.9610057 ]]),\n",
       " array([8.52079729, 3.52079729]),\n",
       " array([[-0.9347217 , -0.35538056],\n",
       "        [-0.35538056,  0.9347217 ]]))"
      ]
     },
     "execution_count": 4,
     "metadata": {},
     "output_type": "execute_result"
    }
   ],
   "source": [
    "mat=numpy.array([[8,2],[1,4]])\n",
    "(linalg.svd(mat))"
   ]
  },
  {
   "cell_type": "markdown",
   "metadata": {},
   "source": [
    "<h2>e. LU Decomposition</h2>\n",
    "\n",
    "To carry out LU decomposition, we can use the lu() method.\n",
    "\n"
   ]
  },
  {
   "cell_type": "code",
   "execution_count": 5,
   "metadata": {},
   "outputs": [
    {
     "data": {
      "text/plain": [
       "(array([[1., 0.],\n",
       "        [0., 1.]]), array([[1.   , 0.   ],\n",
       "        [0.125, 1.   ]]), array([[8.  , 2.  ],\n",
       "        [0.  , 3.75]]))"
      ]
     },
     "execution_count": 5,
     "metadata": {},
     "output_type": "execute_result"
    }
   ],
   "source": [
    "mat=numpy.array([[8,2],[1,4]])\n",
    "(linalg.lu(mat))"
   ]
  },
  {
   "cell_type": "markdown",
   "metadata": {},
   "source": [
    "<h1>Working with Polynomials in SciPy</h1>\n",
    "\n",
    "SciPy will let us work with polynomials using the poly1d type from numpy:\n",
    "\n"
   ]
  },
  {
   "cell_type": "code",
   "execution_count": 6,
   "metadata": {},
   "outputs": [
    {
     "name": "stdout",
     "output_type": "stream",
     "text": [
      "   2\n",
      "3 x + 2 x + 4\n"
     ]
    }
   ],
   "source": [
    "from numpy import poly1d\n",
    "p=poly1d([3,2,4])\n",
    "print(p)"
   ]
  },
  {
   "cell_type": "markdown",
   "metadata": {},
   "source": [
    "We can multiply polynomials using scipy\n"
   ]
  },
  {
   "cell_type": "code",
   "execution_count": 7,
   "metadata": {},
   "outputs": [
    {
     "name": "stdout",
     "output_type": "stream",
     "text": [
      "   4      3      2\n",
      "9 x + 12 x + 28 x + 16 x + 16\n"
     ]
    }
   ],
   "source": [
    "from numpy import poly1d\n",
    "p=poly1d([3,2,4])\n",
    "print(p*p)"
   ]
  },
  {
   "cell_type": "markdown",
   "metadata": {},
   "source": [
    "We can get the value of a polynomial using scipy\n"
   ]
  },
  {
   "cell_type": "code",
   "execution_count": 8,
   "metadata": {},
   "outputs": [
    {
     "data": {
      "text/plain": [
       "89"
      ]
     },
     "execution_count": 8,
     "metadata": {},
     "output_type": "execute_result"
    }
   ],
   "source": [
    "from numpy import poly1d\n",
    "p=poly1d([3,2,4])\n",
    "(p(5))  #Value of polynomial for x=5"
   ]
  },
  {
   "cell_type": "markdown",
   "metadata": {},
   "source": [
    "<h1>Integration with SciPy</h1>\n",
    "\n",
    "To be able to perform integration, we will import the integrate subpackage from scipy.\n",
    "\n"
   ]
  },
  {
   "cell_type": "code",
   "execution_count": 10,
   "metadata": {},
   "outputs": [
    {
     "name": "stdout",
     "output_type": "stream",
     "text": [
      "(21.333333333333336, 2.368475785867001e-13)\n"
     ]
    }
   ],
   "source": [
    "from scipy import integrate\n",
    "print(integrate.quad(lambda x:x**2,0,4) )  #Last two arguments are lower and upper limits\n"
   ]
  },
  {
   "cell_type": "markdown",
   "metadata": {},
   "source": [
    "<h1>Fast Fourier Transforms</h1>\n",
    "<ul>\n",
    "<li>Fourier Transforms. This analysis lets you express a function as a sum of periodic components.</li>\n",
    "<li>It is possible to recover the signal from this sum.</li></ul>\n",
    "Let’s take an example.\n"
   ]
  },
  {
   "cell_type": "code",
   "execution_count": 12,
   "metadata": {},
   "outputs": [
    {
     "data": {
      "image/png": "[encoded data removed]",
      "text/plain": [
       "<Figure size 432x288 with 1 Axes>"
      ]
     },
     "metadata": {
      "needs_background": "light"
     },
     "output_type": "display_data"
    }
   ],
   "source": [
    "from scipy.fftpack import fft\n",
    "import matplotlib.pyplot as plt\n",
    "import numpy\n",
    "N=600\n",
    "T=1.0/800.0\n",
    "x=numpy.linspace(0.0,N*T,N)\n",
    "y=numpy.sin(50.0*2.0*numpy.pi*x)+0.5*numpy.sin(80.0*2.0*numpy.pi*x)\n",
    "yf=fft(y)\n",
    "xf=numpy.linspace(0.0,1.0/(2.0*T),N//2)\n",
    "plt.plot(xf, 2.0/N * numpy.abs(yf[0:N//2]))\n",
    "plt.grid()\n",
    "plt.show()"
   ]
  },
  {
   "cell_type": "markdown",
   "metadata": {},
   "source": [
    "<h1>Processing Signals with SciPy</h1>\n",
    "\n",
    "SciPy will also help you with signal processing. Let’s take an example.\n",
    "\n"
   ]
  },
  {
   "cell_type": "markdown",
   "metadata": {},
   "source": [
    "<h2>a. Using FFT to resample</h2>\n",
    "\n",
    "We can resample a function to n points in a time domain interval. We can use the function resample() for this.\n"
   ]
  },
  {
   "cell_type": "code",
   "execution_count": 13,
   "metadata": {},
   "outputs": [
    {
     "name": "stdout",
     "output_type": "stream",
     "text": [
      "[ 2.53646187e-01  4.42862714e-01  1.30911708e-01 -4.03661569e-04\n",
      " -2.46796188e-01 -4.01250031e-01 -6.02163029e-01 -7.29009092e-01\n",
      " -8.67210764e-01 -9.36613035e-01 -9.96854799e-01 -9.92677981e-01\n",
      " -9.69290493e-01 -8.89059050e-01 -7.88328709e-01 -6.42724221e-01\n",
      " -4.82471688e-01 -2.93235201e-01 -1.00252575e-01  1.03485240e-01\n",
      "  2.97553909e-01  4.84034568e-01  6.47647207e-01  7.87621227e-01\n",
      "  8.94307970e-01  9.65747039e-01  9.98290610e-01  9.89933605e-01\n",
      "  9.43086094e-01  8.56258905e-01  7.37557695e-01  5.85979825e-01\n",
      "  4.14530124e-01  2.22140820e-01  2.55574069e-02 -1.77290843e-01\n",
      " -3.67296028e-01 -5.48668880e-01 -7.01350411e-01 -8.32817034e-01\n",
      " -9.23304018e-01 -9.84465222e-01 -9.97731403e-01 -9.79468243e-01\n",
      " -9.12731406e-01 -8.18656104e-01 -6.81824362e-01 -5.27702052e-01\n",
      " -3.41795967e-01 -1.53029375e-01  5.31684140e-02  2.45590363e-01\n",
      "  4.40123741e-01  6.04567441e-01  7.57401996e-01  8.66632917e-01\n",
      "  9.54445258e-01  9.89969706e-01  9.99867317e-01  9.54879906e-01\n",
      "  8.86458428e-01  7.66925238e-01  6.32335240e-01  4.56039874e-01\n",
      "  2.78052545e-01  7.17570792e-02 -1.19862591e-01 -3.24689257e-01\n",
      " -4.97923331e-01 -6.70128843e-01 -7.95805141e-01 -9.09528138e-01\n",
      " -9.65963431e-01 -1.00476637e+00 -9.81213170e-01 -9.40715218e-01\n",
      " -8.39061786e-01 -7.27652981e-01 -5.62104241e-01 -3.99628541e-01\n",
      " -1.94416899e-01 -9.03656467e-03  2.05475515e-01  3.81730185e-01\n",
      "  5.73939765e-01  7.10218575e-01  8.52394179e-01  9.23854490e-01\n",
      "  9.96674668e-01  9.88290262e-01  9.84127326e-01  8.92806121e-01\n",
      "  8.17336149e-01  6.51833525e-01  5.24026647e-01  3.02080682e-01\n",
      "  1.53782272e-01 -1.05861178e-01 -2.23092136e-01 -5.40016994e-01]\n"
     ]
    }
   ],
   "source": [
    "import numpy\n",
    "from scipy import signal\n",
    "t=numpy.linspace(-10,10,200)\n",
    "y=numpy.sin(t)\n",
    "print(signal.resample(y,100))"
   ]
  },
  {
   "cell_type": "markdown",
   "metadata": {},
   "source": [
    "<h2>b. Removing Linear Trends</h2>\n",
    "\n",
    "The detrend() function will remove the linear element from the signal; this gives us a transient solution.\n",
    "\n"
   ]
  },
  {
   "cell_type": "code",
   "execution_count": 14,
   "metadata": {},
   "outputs": [
    {
     "name": "stdout",
     "output_type": "stream",
     "text": [
      "[ 0.76761293  0.67843367  0.58464135  0.48715987  0.38695036  0.28500148\n",
      "  0.18231944  0.07991785 -0.02119249 -0.12001383 -0.21557153 -0.30692387\n",
      " -0.39317157 -0.47346689 -0.54702214 -0.61311766 -0.67110907 -0.7204338\n",
      " -0.76061672 -0.79127497 -0.81212183 -0.82296958 -0.82373141 -0.81442233\n",
      " -0.79515896 -0.76615839 -0.72773598 -0.68030217 -0.62435836 -0.56049183\n",
      " -0.48936982 -0.41173277 -0.32838692 -0.24019608 -0.14807297 -0.05297001\n",
      "  0.04413033  0.14222539  0.24030251  0.33734919  0.43236332  0.52436332\n",
      "  0.61239803  0.69555629  0.77297618  0.84385366  0.90745076  0.96310296\n",
      "  1.01022591  1.04832136  1.07698217  1.0958964   1.10485049  1.10373139\n",
      "  1.09252772  1.07132987  1.04032909  0.99981557  0.95017551  0.89188721\n",
      "  0.82551625  0.75170978  0.67119     0.58474686  0.49323007  0.39754059\n",
      "  0.29862144  0.19744827  0.09501947 -0.00765391 -0.10955834 -0.20968806\n",
      " -0.3070552  -0.40069979 -0.48969943 -0.57317859 -0.65031745 -0.72036019\n",
      " -0.78262259 -0.83649897 -0.88146827 -0.91709933 -0.94305524 -0.9590967\n",
      " -0.96508452 -0.96098093 -0.94685004 -0.92285713 -0.88926702 -0.8464414\n",
      " -0.79483514 -0.73499176 -0.66753788 -0.59317695 -0.51268211 -0.42688841\n",
      " -0.3366844  -0.24300311 -0.14681266 -0.04910653  0.04910653  0.14681266\n",
      "  0.24300311  0.3366844   0.42688841  0.51268211  0.59317695  0.66753788\n",
      "  0.73499176  0.79483514  0.8464414   0.88926702  0.92285713  0.94685004\n",
      "  0.96098093  0.96508452  0.9590967   0.94305524  0.91709933  0.88146827\n",
      "  0.83649897  0.78262259  0.72036019  0.65031745  0.57317859  0.48969943\n",
      "  0.40069979  0.3070552   0.20968806  0.10955834  0.00765391 -0.09501947\n",
      " -0.19744827 -0.29862144 -0.39754059 -0.49323007 -0.58474686 -0.67119\n",
      " -0.75170978 -0.82551625 -0.89188721 -0.95017551 -0.99981557 -1.04032909\n",
      " -1.07132987 -1.09252772 -1.10373139 -1.10485049 -1.0958964  -1.07698217\n",
      " -1.04832136 -1.01022591 -0.96310296 -0.90745076 -0.84385366 -0.77297618\n",
      " -0.69555629 -0.61239803 -0.52436332 -0.43236332 -0.33734919 -0.24030251\n",
      " -0.14222539 -0.04413033  0.05297001  0.14807297  0.24019608  0.32838692\n",
      "  0.41173277  0.48936982  0.56049183  0.62435836  0.68030217  0.72773598\n",
      "  0.76615839  0.79515896  0.81442233  0.82373141  0.82296958  0.81212183\n",
      "  0.79127497  0.76061672  0.7204338   0.67110907  0.61311766  0.54702214\n",
      "  0.47346689  0.39317157  0.30692387  0.21557153  0.12001383  0.02119249\n",
      " -0.07991785 -0.18231944 -0.28500148 -0.38695036 -0.48715987 -0.58464135\n",
      " -0.67843367 -0.76761293]\n"
     ]
    }
   ],
   "source": [
    "import numpy\n",
    "from scipy import signal\n",
    "t=numpy.linspace(-10,10,200)\n",
    "y=numpy.sin(t)+t\n",
    "print(signal.detrend(y))\n"
   ]
  },
  {
   "cell_type": "markdown",
   "metadata": {},
   "source": [
    "<h2>Processing Images with SciPy</h2>\n",
    "<ul>\n",
    "<li>With SciPy, you can use ndimage to process images.</li>\n",
    "<li>Some of the possible transitions are opening and closing images, geometrical transformation(shape, resolution, orientation), image filtering, and filters like erosion and dilation.</li>\n"
   ]
  },
  {
   "cell_type": "markdown",
   "metadata": {},
   "source": [
    "<h2>a. Shift</h2>\n",
    "<ul>\n",
    "<li>This function will shift the image along the x and y coordinates.</li>\n",
    "<li>The function is shift(image,(x,y)).</li>\n"
   ]
  },
  {
   "cell_type": "markdown",
   "metadata": {},
   "source": [
    "<h2>b. Rotate</h2>\n",
    "\n",
    "When you want to rotate your image to an angle, use the rotate(image, angle) function.\n",
    "\n"
   ]
  },
  {
   "cell_type": "markdown",
   "metadata": {},
   "source": [
    "<h2>c. Zoom</h2>\n",
    "\n",
    "With zoom(image, magnitude), you can zoom in or out on an image.\n",
    "\n"
   ]
  },
  {
   "cell_type": "markdown",
   "metadata": {},
   "source": [
    "<h2>d. Median Filter</h2>\n",
    "\n",
    "To filter an image with a Median filter, you can use median_filter(image, argument).\n",
    "\n"
   ]
  },
  {
   "cell_type": "markdown",
   "metadata": {},
   "source": [
    "<h2>e. Gaussian Filter</h2>\n",
    "\n",
    "And to filter with a Gaussian filter, you use gaussian_filter(image, argument).\n"
   ]
  },
  {
   "cell_type": "markdown",
   "metadata": {},
   "source": [
    "<h2>f. Opening an Image in Binary</h2>\n",
    "\n",
    "For this, you use the function binary_opening(image)\n",
    "\n"
   ]
  },
  {
   "cell_type": "markdown",
   "metadata": {},
   "source": [
    "<h2>g. Closing an Image</h2>\n",
    "\n",
    "To close this image, make a call to binary_closing(opened_image)\n",
    "\n"
   ]
  },
  {
   "cell_type": "markdown",
   "metadata": {},
   "source": [
    "<h2>h. Binary Erosion</h2>\n",
    "\n",
    "For this task, we use the function binary_erosion(image)\n",
    "\n"
   ]
  },
  {
   "cell_type": "markdown",
   "metadata": {},
   "source": [
    "<h2>i. Binary Dilation</h2>\n",
    "\n",
    "And to perform dilation, call binary_dilation(image)\n",
    "\n"
   ]
  },
  {
   "cell_type": "markdown",
   "metadata": {},
   "source": [
    "<h2>Optimizing</h2>\n",
    "\n",
    "For algorithms that will optimize, we need the optimize package. Import it this way-\n",
    "\n"
   ]
  },
  {
   "cell_type": "code",
   "execution_count": 15,
   "metadata": {},
   "outputs": [
    {
     "data": {
      "text/plain": [
       " active_mask: array([0., 0.])\n",
       "        cost: 9.866924291084687e-30\n",
       "         fun: array([4.44089210e-15, 1.11022302e-16])\n",
       "        grad: array([-8.89288649e-14,  4.44089210e-14])\n",
       "         jac: array([[-20.00000015,  10.        ],\n",
       "       [ -1.        ,   0.        ]])\n",
       "     message: '`gtol` termination condition is satisfied.'\n",
       "        nfev: 3\n",
       "        njev: 3\n",
       "  optimality: 8.892886493421953e-14\n",
       "      status: 1\n",
       "     success: True\n",
       "           x: array([1., 1.])"
      ]
     },
     "execution_count": 15,
     "metadata": {},
     "output_type": "execute_result"
    }
   ],
   "source": [
    "import numpy\n",
    "from scipy.optimize import least_squares\n",
    "def func1(x):\n",
    " return numpy.array([10 * (x[1] - x[0]**2), (1 - x[0])])\n",
    "input=numpy.array([2, 2])\n",
    "res=least_squares(func1, input)\n",
    "res\n"
   ]
  },
  {
   "cell_type": "markdown",
   "metadata": {},
   "source": [
    "<h1>Working with Stats sub-packages of SciPy</h1>\n",
    "<ul>\n",
    "<li>The stats subpackage lets us work with statistics.</li>\n",
    "<li>Let’s take a few examples. from scipy.stats import norm.</li>\n",
    "\n"
   ]
  },
  {
   "cell_type": "markdown",
   "metadata": {},
   "source": [
    "<h2>a. CDF Removing Linear Trends</h2>\n",
    "\n",
    "This function computes the cumulative distribution at the points we mention.\n",
    "\n"
   ]
  },
  {
   "cell_type": "code",
   "execution_count": 16,
   "metadata": {},
   "outputs": [
    {
     "name": "stdout",
     "output_type": "stream",
     "text": [
      "[8.41344746e-01 1.58655254e-01 9.98650102e-01 8.41344746e-01\n",
      " 5.00000000e-01 9.99968329e-01 9.86587645e-10 9.77249868e-01]\n"
     ]
    }
   ],
   "source": [
    "from scipy.stats import norm\n",
    "import numpy\n",
    "print(norm.cdf(numpy.array([1,-1.,3,1,0,4,-6,2])))\n"
   ]
  },
  {
   "cell_type": "markdown",
   "metadata": {},
   "source": [
    "<h2>b. PPF</h2>\n",
    "\n",
    "For the Percent Point Function, we use the function ppf().\n",
    "\n"
   ]
  },
  {
   "cell_type": "markdown",
   "metadata": {},
   "source": [
    "<h2>c. RVS</h2>\n",
    "\n",
    "For a random variate sequence, use rvs().\n",
    "\n"
   ]
  },
  {
   "cell_type": "markdown",
   "metadata": {},
   "source": [
    "<h2>d. Binomial Distribution</h2>\n",
    "\n",
    "For this, we use the cdf() function from uniform.\n",
    "\n",
    "\n"
   ]
  },
  {
   "cell_type": "code",
   "execution_count": 17,
   "metadata": {
    "scrolled": true
   },
   "outputs": [
    {
     "name": "stdout",
     "output_type": "stream",
     "text": [
      "[0.         0.         0.33333333 0.66666667 1.         1.\n",
      " 1.         1.        ]\n"
     ]
    }
   ],
   "source": [
    "import numpy\n",
    "from scipy.stats import uniform\n",
    "print(uniform.cdf([0,1,2,3,4,5,6,7],loc=1,scale=3))\n"
   ]
  }
 ],
 "metadata": {
  "kernelspec": {
   "display_name": "Python 3",
   "language": "python",
   "name": "python3"
  },
  "language_info": {
   "codemirror_mode": {
    "name": "ipython",
    "version": 3
   },
   "file_extension": ".py",
   "mimetype": "text/x-python",
   "name": "python",
   "nbconvert_exporter": "python",
   "pygments_lexer": "ipython3",
   "version": "3.7.3"
  }
 },
 "nbformat": 4,
 "nbformat_minor": 2
}
